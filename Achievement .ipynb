{
 "cells": [
  {
   "cell_type": "code",
   "execution_count": 15,
   "id": "076d8d6d",
   "metadata": {},
   "outputs": [],
   "source": [
    "import pandas as pd \n",
    "df = pd.read_csv('Achievement.csv')\n",
    "df = df.drop(columns = ['Unnamed: 4','Unnamed: 5'])\n",
    "df.to_csv('Achievement1.csv')"
   ]
  },
  {
   "cell_type": "code",
   "execution_count": 2,
   "id": "f8604260",
   "metadata": {},
   "outputs": [
    {
     "data": {
      "text/html": [
       "<div>\n",
       "<style scoped>\n",
       "    .dataframe tbody tr th:only-of-type {\n",
       "        vertical-align: middle;\n",
       "    }\n",
       "\n",
       "    .dataframe tbody tr th {\n",
       "        vertical-align: top;\n",
       "    }\n",
       "\n",
       "    .dataframe thead th {\n",
       "        text-align: right;\n",
       "    }\n",
       "</style>\n",
       "<table border=\"1\" class=\"dataframe\">\n",
       "  <thead>\n",
       "    <tr style=\"text-align: right;\">\n",
       "      <th></th>\n",
       "      <th>Unnamed: 0</th>\n",
       "      <th>Family</th>\n",
       "      <th>Peer</th>\n",
       "      <th>School</th>\n",
       "      <th>Achieve</th>\n",
       "    </tr>\n",
       "  </thead>\n",
       "  <tbody>\n",
       "    <tr>\n",
       "      <th>0</th>\n",
       "      <td>0</td>\n",
       "      <td>0.60814</td>\n",
       "      <td>0.03509</td>\n",
       "      <td>0.16607</td>\n",
       "      <td>0.64955</td>\n",
       "    </tr>\n",
       "    <tr>\n",
       "      <th>1</th>\n",
       "      <td>1</td>\n",
       "      <td>0.79369</td>\n",
       "      <td>0.47924</td>\n",
       "      <td>0.53356</td>\n",
       "      <td>2.22485</td>\n",
       "    </tr>\n",
       "    <tr>\n",
       "      <th>2</th>\n",
       "      <td>2</td>\n",
       "      <td>-0.82630</td>\n",
       "      <td>-0.61951</td>\n",
       "      <td>-0.78635</td>\n",
       "      <td>0.39666</td>\n",
       "    </tr>\n",
       "    <tr>\n",
       "      <th>3</th>\n",
       "      <td>3</td>\n",
       "      <td>-1.25310</td>\n",
       "      <td>-1.21675</td>\n",
       "      <td>-1.04076</td>\n",
       "      <td>0.11183</td>\n",
       "    </tr>\n",
       "    <tr>\n",
       "      <th>4</th>\n",
       "      <td>4</td>\n",
       "      <td>0.17399</td>\n",
       "      <td>-0.18517</td>\n",
       "      <td>0.14229</td>\n",
       "      <td>0.05795</td>\n",
       "    </tr>\n",
       "    <tr>\n",
       "      <th>...</th>\n",
       "      <td>...</td>\n",
       "      <td>...</td>\n",
       "      <td>...</td>\n",
       "      <td>...</td>\n",
       "      <td>...</td>\n",
       "    </tr>\n",
       "    <tr>\n",
       "      <th>65</th>\n",
       "      <td>65</td>\n",
       "      <td>0.53940</td>\n",
       "      <td>0.16182</td>\n",
       "      <td>0.33477</td>\n",
       "      <td>2.63884</td>\n",
       "    </tr>\n",
       "    <tr>\n",
       "      <th>66</th>\n",
       "      <td>66</td>\n",
       "      <td>0.22491</td>\n",
       "      <td>0.74800</td>\n",
       "      <td>0.66182</td>\n",
       "      <td>23.59253</td>\n",
       "    </tr>\n",
       "    <tr>\n",
       "      <th>67</th>\n",
       "      <td>67</td>\n",
       "      <td>1.48244</td>\n",
       "      <td>1.47079</td>\n",
       "      <td>1.54283</td>\n",
       "      <td>0.14838</td>\n",
       "    </tr>\n",
       "    <tr>\n",
       "      <th>68</th>\n",
       "      <td>68</td>\n",
       "      <td>2.05425</td>\n",
       "      <td>1.80369</td>\n",
       "      <td>1.90066</td>\n",
       "      <td>1.90786</td>\n",
       "    </tr>\n",
       "    <tr>\n",
       "      <th>69</th>\n",
       "      <td>69</td>\n",
       "      <td>1.24058</td>\n",
       "      <td>0.64484</td>\n",
       "      <td>0.87372</td>\n",
       "      <td>0.17219</td>\n",
       "    </tr>\n",
       "  </tbody>\n",
       "</table>\n",
       "<p>70 rows × 5 columns</p>\n",
       "</div>"
      ],
      "text/plain": [
       "    Unnamed: 0   Family     Peer   School   Achieve\n",
       "0            0  0.60814  0.03509  0.16607   0.64955\n",
       "1            1  0.79369  0.47924  0.53356   2.22485\n",
       "2            2 -0.82630 -0.61951 -0.78635   0.39666\n",
       "3            3 -1.25310 -1.21675 -1.04076   0.11183\n",
       "4            4  0.17399 -0.18517  0.14229   0.05795\n",
       "..         ...      ...      ...      ...       ...\n",
       "65          65  0.53940  0.16182  0.33477   2.63884\n",
       "66          66  0.22491  0.74800  0.66182  23.59253\n",
       "67          67  1.48244  1.47079  1.54283   0.14838\n",
       "68          68  2.05425  1.80369  1.90066   1.90786\n",
       "69          69  1.24058  0.64484  0.87372   0.17219\n",
       "\n",
       "[70 rows x 5 columns]"
      ]
     },
     "execution_count": 2,
     "metadata": {},
     "output_type": "execute_result"
    }
   ],
   "source": [
    "import pandas as pd \n",
    "df_new = pd.read_csv('Achievement1.csv')\n",
    "df_new\n"
   ]
  },
  {
   "cell_type": "markdown",
   "id": "dd94fc6f",
   "metadata": {},
   "source": [
    "# Import DataSet"
   ]
  },
  {
   "cell_type": "code",
   "execution_count": 70,
   "id": "71c7c3ea",
   "metadata": {},
   "outputs": [
    {
     "data": {
      "text/html": [
       "<div>\n",
       "<style scoped>\n",
       "    .dataframe tbody tr th:only-of-type {\n",
       "        vertical-align: middle;\n",
       "    }\n",
       "\n",
       "    .dataframe tbody tr th {\n",
       "        vertical-align: top;\n",
       "    }\n",
       "\n",
       "    .dataframe thead th {\n",
       "        text-align: right;\n",
       "    }\n",
       "</style>\n",
       "<table border=\"1\" class=\"dataframe\">\n",
       "  <thead>\n",
       "    <tr style=\"text-align: right;\">\n",
       "      <th></th>\n",
       "      <th>Unnamed: 0</th>\n",
       "      <th>Family</th>\n",
       "      <th>Peer</th>\n",
       "      <th>School</th>\n",
       "      <th>Achieve</th>\n",
       "    </tr>\n",
       "  </thead>\n",
       "  <tbody>\n",
       "    <tr>\n",
       "      <th>0</th>\n",
       "      <td>0</td>\n",
       "      <td>0.60814</td>\n",
       "      <td>0.03509</td>\n",
       "      <td>0.16607</td>\n",
       "      <td>0.64955</td>\n",
       "    </tr>\n",
       "    <tr>\n",
       "      <th>1</th>\n",
       "      <td>1</td>\n",
       "      <td>0.79369</td>\n",
       "      <td>0.47924</td>\n",
       "      <td>0.53356</td>\n",
       "      <td>2.22485</td>\n",
       "    </tr>\n",
       "    <tr>\n",
       "      <th>2</th>\n",
       "      <td>2</td>\n",
       "      <td>-0.82630</td>\n",
       "      <td>-0.61951</td>\n",
       "      <td>-0.78635</td>\n",
       "      <td>0.39666</td>\n",
       "    </tr>\n",
       "    <tr>\n",
       "      <th>3</th>\n",
       "      <td>3</td>\n",
       "      <td>-1.25310</td>\n",
       "      <td>-1.21675</td>\n",
       "      <td>-1.04076</td>\n",
       "      <td>0.11183</td>\n",
       "    </tr>\n",
       "    <tr>\n",
       "      <th>4</th>\n",
       "      <td>4</td>\n",
       "      <td>0.17399</td>\n",
       "      <td>-0.18517</td>\n",
       "      <td>0.14229</td>\n",
       "      <td>0.05795</td>\n",
       "    </tr>\n",
       "    <tr>\n",
       "      <th>...</th>\n",
       "      <td>...</td>\n",
       "      <td>...</td>\n",
       "      <td>...</td>\n",
       "      <td>...</td>\n",
       "      <td>...</td>\n",
       "    </tr>\n",
       "    <tr>\n",
       "      <th>65</th>\n",
       "      <td>65</td>\n",
       "      <td>0.53940</td>\n",
       "      <td>0.16182</td>\n",
       "      <td>0.33477</td>\n",
       "      <td>2.63884</td>\n",
       "    </tr>\n",
       "    <tr>\n",
       "      <th>66</th>\n",
       "      <td>66</td>\n",
       "      <td>0.22491</td>\n",
       "      <td>0.74800</td>\n",
       "      <td>0.66182</td>\n",
       "      <td>23.59253</td>\n",
       "    </tr>\n",
       "    <tr>\n",
       "      <th>67</th>\n",
       "      <td>67</td>\n",
       "      <td>1.48244</td>\n",
       "      <td>1.47079</td>\n",
       "      <td>1.54283</td>\n",
       "      <td>0.14838</td>\n",
       "    </tr>\n",
       "    <tr>\n",
       "      <th>68</th>\n",
       "      <td>68</td>\n",
       "      <td>2.05425</td>\n",
       "      <td>1.80369</td>\n",
       "      <td>1.90066</td>\n",
       "      <td>1.90786</td>\n",
       "    </tr>\n",
       "    <tr>\n",
       "      <th>69</th>\n",
       "      <td>69</td>\n",
       "      <td>1.24058</td>\n",
       "      <td>0.64484</td>\n",
       "      <td>0.87372</td>\n",
       "      <td>0.17219</td>\n",
       "    </tr>\n",
       "  </tbody>\n",
       "</table>\n",
       "<p>70 rows × 5 columns</p>\n",
       "</div>"
      ],
      "text/plain": [
       "    Unnamed: 0   Family     Peer   School   Achieve\n",
       "0            0  0.60814  0.03509  0.16607   0.64955\n",
       "1            1  0.79369  0.47924  0.53356   2.22485\n",
       "2            2 -0.82630 -0.61951 -0.78635   0.39666\n",
       "3            3 -1.25310 -1.21675 -1.04076   0.11183\n",
       "4            4  0.17399 -0.18517  0.14229   0.05795\n",
       "..         ...      ...      ...      ...       ...\n",
       "65          65  0.53940  0.16182  0.33477   2.63884\n",
       "66          66  0.22491  0.74800  0.66182  23.59253\n",
       "67          67  1.48244  1.47079  1.54283   0.14838\n",
       "68          68  2.05425  1.80369  1.90066   1.90786\n",
       "69          69  1.24058  0.64484  0.87372   0.17219\n",
       "\n",
       "[70 rows x 5 columns]"
      ]
     },
     "execution_count": 70,
     "metadata": {},
     "output_type": "execute_result"
    }
   ],
   "source": [
    "import pandas as pd\n",
    "import numpy as np\n",
    "df_new"
   ]
  },
  {
   "cell_type": "markdown",
   "id": "99ff90ab",
   "metadata": {},
   "source": [
    "# Define x and y"
   ]
  },
  {
   "cell_type": "code",
   "execution_count": 125,
   "id": "31f8ddbe",
   "metadata": {},
   "outputs": [],
   "source": [
    "x = df_new[['Family','Peer','School']].to_numpy()\n",
    "y = np.squeeze(df_new['Achieve'].to_numpy())"
   ]
  },
  {
   "cell_type": "code",
   "execution_count": 127,
   "id": "e5c5d5d2",
   "metadata": {},
   "outputs": [
    {
     "name": "stdout",
     "output_type": "stream",
     "text": [
      "[[ 0.60814  0.03509  0.16607]\n",
      " [ 0.79369  0.47924  0.53356]\n",
      " [-0.8263  -0.61951 -0.78635]\n",
      " [-1.2531  -1.21675 -1.04076]\n",
      " [ 0.17399 -0.18517  0.14229]\n",
      " [ 0.20246  0.12764  0.27311]\n",
      " [ 0.24184 -0.09022  0.04967]\n",
      " [ 0.59421  0.2175   0.51876]\n",
      " [-0.61561 -0.48971 -0.63219]\n",
      " [ 0.99391  0.62228  0.93368]\n",
      " [ 1.21721  1.00627  1.17381]\n",
      " [ 0.41436  0.71103  0.58978]\n",
      " [ 0.83782  0.74281  0.72154]\n",
      " [-0.75512 -0.64411 -0.56986]\n",
      " [-0.37407 -0.13787 -0.2177 ]\n",
      " [ 1.40353  1.14085  1.37147]\n",
      " [ 1.64194  1.29229  1.40269]\n",
      " [-0.31304 -0.0798  -0.21455]\n",
      " [ 1.28525  1.22441  1.20428]\n",
      " [-1.51938 -1.27565 -1.36598]\n",
      " [-0.38224 -0.05353 -0.3556 ]\n",
      " [-0.19186 -0.42605 -0.53718]\n",
      " [ 1.27649  0.81427  0.91967]\n",
      " [ 0.5231   0.3072   0.47231]\n",
      " [-1.5981  -1.01572 -1.48315]\n",
      " [ 0.77914  0.87771  0.76496]\n",
      " [-1.04745 -0.77536 -0.91397]\n",
      " [-1.63217 -1.47709 -1.71347]\n",
      " [ 0.44328  0.60956  0.32833]\n",
      " [-0.24972  0.07876 -0.17216]\n",
      " [-0.3348  -0.39314 -0.37198]\n",
      " [-0.2068  -0.13936  0.05626]\n",
      " [-1.99375 -1.69587 -1.87838]\n",
      " [ 0.66475  0.7967   0.69865]\n",
      " [-0.27977  0.10817 -0.2645 ]\n",
      " [-0.4399  -0.66022 -0.5849 ]\n",
      " [-0.05334 -0.02396 -0.16795]\n",
      " [-2.06699 -1.31832 -1.72082]\n",
      " [-1.0256  -1.15858 -1.1942 ]\n",
      " [ 0.45847  0.21555  0.31347]\n",
      " [ 0.93979  0.63454  0.69907]\n",
      " [-0.93238 -0.95216 -1.02725]\n",
      " [-0.35988 -0.30693 -0.46232]\n",
      " [-0.00518  0.35985  0.02485]\n",
      " [-0.18892 -0.07959  0.01704]\n",
      " [ 0.87271  0.47644  0.57036]\n",
      " [-2.06993 -1.82915 -2.16738]\n",
      " [ 0.32143 -0.25961  0.21632]\n",
      " [-1.42382 -0.7762  -1.07473]\n",
      " [-0.07852 -0.21347 -0.1175 ]\n",
      " [-0.14925 -0.03192 -0.36598]\n",
      " [ 0.52666  0.79149  0.71369]\n",
      " [-1.49102 -1.02073 -1.38103]\n",
      " [-0.94757 -1.28991 -1.24799]\n",
      " [ 0.2455   0.83794  0.59596]\n",
      " [-0.4163  -0.60312 -0.34951]\n",
      " [ 1.38143  1.54542  1.59429]\n",
      " [ 1.03806  0.91637  0.97602]\n",
      " [-0.88639 -0.47652 -0.77693]\n",
      " [ 1.08655  0.657    0.89401]\n",
      " [-1.95142 -1.94199 -1.89645]\n",
      " [ 2.83384  2.47398  2.79222]\n",
      " [ 1.86753  1.55229  1.80057]\n",
      " [-1.11172 -0.69732 -0.80197]\n",
      " [ 1.41958  1.11481  1.24558]\n",
      " [ 0.5394   0.16182  0.33477]\n",
      " [ 0.22491  0.748    0.66182]\n",
      " [ 1.48244  1.47079  1.54283]\n",
      " [ 2.05425  1.80369  1.90066]\n",
      " [ 1.24058  0.64484  0.87372]]\n"
     ]
    }
   ],
   "source": [
    "print(x)"
   ]
  },
  {
   "cell_type": "code",
   "execution_count": 126,
   "id": "90f55a03",
   "metadata": {},
   "outputs": [
    {
     "name": "stdout",
     "output_type": "stream",
     "text": [
      "[6.4955000e-01 2.2248500e+00 3.9666000e-01 1.1183000e-01 5.7950000e-02\n",
      " 5.1565000e-01 1.3967590e+01 1.0574760e+01 4.0130000e-01 1.8120300e+00\n",
      " 3.3559300e+00 6.4989500e+00 9.0323000e-01 5.6160000e-02 5.0698690e+01\n",
      " 7.7543570e+01 4.8511700e+00 5.2294440e+01 2.9824600e+00 5.3586000e-01\n",
      " 5.2912000e-01 1.3178000e-01 2.3063000e-01 2.3354270e+01 1.1199000e-01\n",
      " 6.8015500e+00 6.6250000e-02 1.3600000e-03 1.9174800e+00 8.7134000e-01\n",
      " 8.7200000e-02 3.7700000e-02 8.3690000e-02 6.5955200e+00 1.5831552e+02\n",
      " 7.1231500e+00 1.3004900e+00 5.2550000e-02 2.5000000e-01 8.1223000e-01\n",
      " 3.4021000e-01 1.8941000e-01 1.7881300e+00 3.9529800e+00 5.9200000e-02\n",
      " 4.7637960e+01 7.1260000e-02 1.0553500e+00 1.6613500e+00 1.9030700e+00\n",
      " 1.2111310e+01 1.8580900e+00 1.8541900e+00 3.6516000e-01 6.8750000e-01\n",
      " 7.9800000e-02 1.0240000e+00 1.2314410e+01 1.4590000e-02 7.1597100e+00\n",
      " 3.5137400e+00 8.4495000e-01 7.1065000e-01 1.0649000e-01 3.7582560e+01\n",
      " 2.6388400e+00 2.3592530e+01 1.4838000e-01 1.9078600e+00 1.7219000e-01]\n"
     ]
    }
   ],
   "source": [
    "print(y)"
   ]
  },
  {
   "cell_type": "markdown",
   "id": "8635752d",
   "metadata": {},
   "source": [
    "# Split the dataset in training set and test set"
   ]
  },
  {
   "cell_type": "code",
   "execution_count": 128,
   "id": "8d61f1d4",
   "metadata": {},
   "outputs": [],
   "source": [
    "from sklearn.model_selection import train_test_split\n",
    "x_train,x_test,y_train,y_test=train_test_split(x,y,test_size=0.2,random_state=0)"
   ]
  },
  {
   "cell_type": "code",
   "execution_count": 129,
   "id": "75950c6a",
   "metadata": {},
   "outputs": [
    {
     "data": {
      "text/plain": [
       "(14, 3)"
      ]
     },
     "execution_count": 129,
     "metadata": {},
     "output_type": "execute_result"
    }
   ],
   "source": [
    "x_test.shape"
   ]
  },
  {
   "cell_type": "markdown",
   "id": "10018c4a",
   "metadata": {},
   "source": [
    "# Train the model on the training set"
   ]
  },
  {
   "cell_type": "code",
   "execution_count": 130,
   "id": "9fcf422b",
   "metadata": {},
   "outputs": [],
   "source": [
    "from sklearn.linear_model import LinearRegression\n",
    "ml = LinearRegression()\n"
   ]
  },
  {
   "cell_type": "code",
   "execution_count": 131,
   "id": "ebc87723",
   "metadata": {},
   "outputs": [
    {
     "data": {
      "text/plain": [
       "LinearRegression()"
      ]
     },
     "execution_count": 131,
     "metadata": {},
     "output_type": "execute_result"
    }
   ],
   "source": [
    "ml.fit(x_train, y_train)"
   ]
  },
  {
   "cell_type": "markdown",
   "id": "9aa28038",
   "metadata": {},
   "source": [
    "# Predict the test set result"
   ]
  },
  {
   "cell_type": "code",
   "execution_count": 122,
   "id": "31e3d575",
   "metadata": {},
   "outputs": [
    {
     "name": "stdout",
     "output_type": "stream",
     "text": [
      "[ 4.74194215  1.17729584  4.93754759  9.5583696   6.05961432 10.71788418\n",
      "  9.04825275 10.00036262  6.70347237  9.33466023 13.92088237  8.35465455\n",
      "  8.57584627  5.55114097]\n"
     ]
    }
   ],
   "source": [
    "y_pred=ml.predict(x_test)\n",
    "print(y_pred)"
   ]
  },
  {
   "cell_type": "code",
   "execution_count": 123,
   "id": "85b42a73",
   "metadata": {},
   "outputs": [
    {
     "data": {
      "text/plain": [
       "array([4.88374311])"
      ]
     },
     "execution_count": 123,
     "metadata": {},
     "output_type": "execute_result"
    }
   ],
   "source": [
    "ml.predict([[-0.82630,-0.61951,-0.78635]])"
   ]
  },
  {
   "cell_type": "markdown",
   "id": "4d29acb0",
   "metadata": {},
   "source": [
    "# Evaluate the model"
   ]
  },
  {
   "cell_type": "code",
   "execution_count": 124,
   "id": "6ee366fb",
   "metadata": {},
   "outputs": [
    {
     "data": {
      "text/plain": [
       "-0.03558318907299585"
      ]
     },
     "execution_count": 124,
     "metadata": {},
     "output_type": "execute_result"
    }
   ],
   "source": [
    "from sklearn.metrics import r2_score\n",
    "r2_score(y_test,y_pred)"
   ]
  },
  {
   "cell_type": "markdown",
   "id": "668fb543",
   "metadata": {},
   "source": [
    "# Plot the results"
   ]
  },
  {
   "cell_type": "code",
   "execution_count": 95,
   "id": "589213ba",
   "metadata": {},
   "outputs": [
    {
     "data": {
      "text/plain": [
       "Text(0.5, 1.0, 'Actual vs. Predicted')"
      ]
     },
     "execution_count": 95,
     "metadata": {},
     "output_type": "execute_result"
    },
    {
     "data": {
      "image/png": "[encoded data removed]",
      "text/plain": [
       "<Figure size 1080x720 with 1 Axes>"
      ]
     },
     "metadata": {
      "needs_background": "light"
     },
     "output_type": "display_data"
    }
   ],
   "source": [
    "import matplotlib.pyplot as plt\n",
    "plt.figure(figsize=(15,10))\n",
    "plt.scatter(y_test,y_pred)\n",
    "plt.xlabel('Actual')\n",
    "plt.ylabel('Predicted')\n",
    "plt.title('Actual vs. Predicted')"
   ]
  },
  {
   "cell_type": "code",
   "execution_count": null,
   "id": "9a06842d",
   "metadata": {},
   "outputs": [],
   "source": []
  },
  {
   "cell_type": "markdown",
   "id": "60f1a724",
   "metadata": {},
   "source": [
    "# Predicted values"
   ]
  },
  {
   "cell_type": "code",
   "execution_count": null,
   "id": "43121459",
   "metadata": {},
   "outputs": [],
   "source": []
  }
 ],
 "metadata": {
  "kernelspec": {
   "display_name": "Python 3 (ipykernel)",
   "language": "python",
   "name": "python3"
  },
  "language_info": {
   "codemirror_mode": {
    "name": "ipython",
    "version": 3
   },
   "file_extension": ".py",
   "mimetype": "text/x-python",
   "name": "python",
   "nbconvert_exporter": "python",
   "pygments_lexer": "ipython3",
   "version": "3.9.7"
  }
 },
 "nbformat": 4,
 "nbformat_minor": 5
}
